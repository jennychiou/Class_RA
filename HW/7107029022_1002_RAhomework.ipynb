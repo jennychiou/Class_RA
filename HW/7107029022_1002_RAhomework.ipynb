{
 "cells": [
  {
   "cell_type": "code",
   "execution_count": 1,
   "metadata": {},
   "outputs": [],
   "source": [
    "#匯入模組\n",
    "import numpy as np\n",
    "import pandas as pd\n",
    "import seaborn as sns\n",
    "import matplotlib.pyplot as plt\n",
    "import math\n",
    "from scipy import stats"
   ]
  },
  {
   "cell_type": "code",
   "execution_count": 2,
   "metadata": {},
   "outputs": [],
   "source": [
    "# 讀取數據\n",
    "data = pd.read_csv('data/electricity.csv')"
   ]
  },
  {
   "cell_type": "code",
   "execution_count": 3,
   "metadata": {},
   "outputs": [
    {
     "name": "stdout",
     "output_type": "stream",
     "text": [
      "pressure比例估計: 0.122\n",
      "windspeed比例估計: 0.131\n",
      "temperature比例估計: 0.747\n"
     ]
    }
   ],
   "source": [
    "#樣本抽樣\n",
    "import random\n",
    "\n",
    "features = ([\"temperature\"]*7330) + ([\"pressure\"]*1200) + ([\"windspeed\"]*1300)\n",
    "sample_size = 1000    \n",
    "sample = random.sample(features, sample_size)\n",
    "for lang in set(sample):\n",
    "    print(lang+\"比例估計:\", sample.count(lang)/sample_size)"
   ]
  },
  {
   "cell_type": "code",
   "execution_count": 4,
   "metadata": {},
   "outputs": [
    {
     "name": "stdout",
     "output_type": "stream",
     "text": [
      "區間估計 - Temperature \n",
      "-------------------------------\n",
      "母體平均: 5.107025199999998\n",
      "樣本平均: 5.15492\n",
      "樣本標準差: 0.8756769687504632\n",
      "樣本計算出的母體標準差: 0.08800884675457749\n",
      "Z分數: 1.959963984540054\n",
      "信賴區間: (4.982425830040123, 5.3274141699598765)\n",
      "4.982425830040123 5.3274141699598765\n"
     ]
    }
   ],
   "source": [
    "#區間估計\n",
    "print(\"區間估計 - Temperature\",'\\n-------------------------------')\n",
    "temperature_list = list(data[\"temperature\"])\n",
    "temperature_features = []\n",
    "for x in range(10000):\n",
    "    sample = np.random.choice(a=temperature_list, size=100)\n",
    "    temperature_features.append(sample.mean())\n",
    "print(\"母體平均:\", sum(temperature_features)/10000.0)\n",
    "sample_size = 100\n",
    "sample = np.random.choice(a=temperature_features, size=sample_size)  \n",
    "sample_mean = sample.mean()\n",
    "print(\"樣本平均:\", sample_mean)\n",
    "sample_stdev = sample.std()\n",
    "print(\"樣本標準差:\", sample_stdev)\n",
    "sigma = sample_stdev/math.sqrt(sample_size-1)\n",
    "print(\"樣本計算出的母體標準差:\", sigma)\n",
    "z_critical = stats.norm.ppf(q=0.975)\n",
    "print(\"Z分數:\", z_critical)\n",
    "margin_of_error = z_critical * sigma\n",
    "confidence_interval = (sample_mean - margin_of_error, sample_mean + margin_of_error)\n",
    "print(\"信賴區間:\",confidence_interval)\n",
    "conf_int = stats.norm.interval(alpha=0.95, loc=sample_mean, scale=sigma)\n",
    "print(conf_int[0], conf_int[1])"
   ]
  },
  {
   "cell_type": "code",
   "execution_count": 5,
   "metadata": {},
   "outputs": [
    {
     "name": "stdout",
     "output_type": "stream",
     "text": [
      "區間估計 - Pressure \n",
      "-------------------------------\n",
      "母體平均: 986.4208130000068\n",
      "樣本平均: 986.3907\n",
      "樣本標準差: 1.1511961214319681\n",
      "樣本計算出的母體標準差: 0.11569956348188638\n",
      "Z分數: 1.959963984540054\n",
      "信賴區間: (986.1639330225486, 986.6174669774515)\n",
      "986.1639330225486 986.6174669774515\n"
     ]
    }
   ],
   "source": [
    "#區間估計\n",
    "print(\"區間估計 - Pressure\",'\\n-------------------------------')\n",
    "pressure_list = list(data[\"pressure\"])\n",
    "pressure_features = []\n",
    "for x in range(10000):\n",
    "    sample = np.random.choice(a=pressure_list, size=100)\n",
    "    pressure_features.append(sample.mean())\n",
    "print(\"母體平均:\", sum(pressure_features)/10000.0)\n",
    "sample_size = 100\n",
    "sample = np.random.choice(a=pressure_features, size=sample_size)  \n",
    "sample_mean = sample.mean()\n",
    "print(\"樣本平均:\", sample_mean)\n",
    "sample_stdev = sample.std()\n",
    "print(\"樣本標準差:\", sample_stdev)\n",
    "sigma = sample_stdev/math.sqrt(sample_size-1)\n",
    "print(\"樣本計算出的母體標準差:\", sigma)\n",
    "z_critical = stats.norm.ppf(q=0.975)\n",
    "print(\"Z分數:\", z_critical)\n",
    "margin_of_error = z_critical * sigma\n",
    "confidence_interval = (sample_mean - margin_of_error, sample_mean + margin_of_error)\n",
    "print(\"信賴區間:\",confidence_interval)\n",
    "conf_int = stats.norm.interval(alpha=0.95, loc=sample_mean, scale=sigma)\n",
    "print(conf_int[0], conf_int[1])"
   ]
  },
  {
   "cell_type": "code",
   "execution_count": 6,
   "metadata": {},
   "outputs": [
    {
     "name": "stdout",
     "output_type": "stream",
     "text": [
      "區間估計 - Windspeed \n",
      "-------------------------------\n",
      "母體平均: 24.028262074999883\n",
      "樣本平均: 23.464347000000004\n",
      "樣本標準差: 5.2457317514519355\n",
      "樣本計算出的母體標準差: 0.5272158778915134\n",
      "Z分數: 1.959963984540054\n",
      "信賴區間: (22.43102286725497, 24.497671132745037)\n",
      "22.43102286725497 24.497671132745037\n"
     ]
    }
   ],
   "source": [
    "#區間估計\n",
    "print(\"區間估計 - Windspeed\",'\\n-------------------------------')\n",
    "windspeed_list = list(data[\"windspeed\"])\n",
    "windspeed_features = []\n",
    "for x in range(10000):\n",
    "    sample = np.random.choice(a=windspeed_list, size=100)\n",
    "    windspeed_features.append(sample.mean())\n",
    "print(\"母體平均:\", sum(windspeed_features)/10000.0)\n",
    "sample_size = 100\n",
    "sample = np.random.choice(a=windspeed_features, size=sample_size)  \n",
    "sample_mean = sample.mean()\n",
    "print(\"樣本平均:\", sample_mean)\n",
    "sample_stdev = sample.std()\n",
    "print(\"樣本標準差:\", sample_stdev)\n",
    "sigma = sample_stdev/math.sqrt(sample_size-1)\n",
    "print(\"樣本計算出的母體標準差:\", sigma)\n",
    "z_critical = stats.norm.ppf(q=0.975)\n",
    "print(\"Z分數:\", z_critical)\n",
    "margin_of_error = z_critical * sigma\n",
    "confidence_interval = (sample_mean - margin_of_error, sample_mean + margin_of_error)\n",
    "print(\"信賴區間:\",confidence_interval)\n",
    "conf_int = stats.norm.interval(alpha=0.95, loc=sample_mean, scale=sigma)\n",
    "print(conf_int[0], conf_int[1])"
   ]
  },
  {
   "cell_type": "code",
   "execution_count": 7,
   "metadata": {},
   "outputs": [
    {
     "name": "stdout",
     "output_type": "stream",
     "text": [
      "T檢定 - Temperature \n",
      "-------------------------------\n",
      "樣本平均: 5.098988526570049\n",
      "樣本標準差: 8.68269645484175\n",
      "樣本計算出的母體標準差: 0.05334241287210379\n",
      "檢定統計量: -9277.814497443662\n",
      "Ttest_1sampResult(statistic=-9277.814497443662, pvalue=0.0)\n",
      "t分數: 1.9600535251236892\n"
     ]
    }
   ],
   "source": [
    "#T檢定\n",
    "print(\"T檢定 - Temperature\",'\\n-------------------------------')\n",
    "mean = 500\n",
    "sample = np.array(data[\"temperature\"]) \n",
    "sample_size = len(sample)\n",
    "\n",
    "sample_mean = sample.mean()\n",
    "print(\"樣本平均:\", sample_mean)\n",
    "sample_stdev = sample.std()\n",
    "print(\"樣本標準差:\", sample_stdev)\n",
    "sigma = sample_stdev/math.sqrt(sample_size-1)\n",
    "print(\"樣本計算出的母體標準差:\", sigma)\n",
    "t_obtained = (sample_mean-mean)/sigma\n",
    "print(\"檢定統計量:\", t_obtained)\n",
    "print(stats.ttest_1samp(a=sample, popmean=mean))\n",
    "t_critical = stats.t.ppf(q=0.975, df=sample_size-1)\n",
    "print(\"t分數:\", t_critical)"
   ]
  },
  {
   "cell_type": "code",
   "execution_count": 8,
   "metadata": {},
   "outputs": [
    {
     "name": "stdout",
     "output_type": "stream",
     "text": [
      "T檢定 - Pressure \n",
      "-------------------------------\n",
      "樣本平均: 986.4506151871981\n",
      "樣本標準差: 12.002420136976191\n",
      "樣本計算出的母體標準差: 0.07373723747465791\n",
      "檢定統計量: 6597.082177839683\n",
      "Ttest_1sampResult(statistic=6597.082177839682, pvalue=0.0)\n",
      "t分數: 1.9600535251236892\n"
     ]
    }
   ],
   "source": [
    "#T檢定\n",
    "print(\"T檢定 - Pressure\",'\\n-------------------------------')\n",
    "mean = 500\n",
    "sample = np.array(data[\"pressure\"]) \n",
    "sample_size = len(sample)\n",
    "\n",
    "sample_mean = sample.mean()\n",
    "print(\"樣本平均:\", sample_mean)\n",
    "sample_stdev = sample.std()\n",
    "print(\"樣本標準差:\", sample_stdev)\n",
    "sigma = sample_stdev/math.sqrt(sample_size-1)\n",
    "print(\"樣本計算出的母體標準差:\", sigma)\n",
    "t_obtained = (sample_mean-mean)/sigma\n",
    "print(\"檢定統計量:\", t_obtained)\n",
    "print(stats.ttest_1samp(a=sample, popmean=mean))\n",
    "t_critical = stats.t.ppf(q=0.975, df=sample_size-1)\n",
    "print(\"t分數:\", t_critical)"
   ]
  },
  {
   "cell_type": "code",
   "execution_count": 9,
   "metadata": {},
   "outputs": [
    {
     "name": "stdout",
     "output_type": "stream",
     "text": [
      "T檢定 - Windspeed \n",
      "-------------------------------\n",
      "樣本平均: 23.95995640851449\n",
      "樣本標準差: 48.27940971129467\n",
      "樣本計算出的母體標準差: 0.2966060393145778\n",
      "檢定統計量: -1604.9573524920766\n",
      "Ttest_1sampResult(statistic=-1604.957352492076, pvalue=0.0)\n",
      "t分數: 1.9600535251236892\n"
     ]
    }
   ],
   "source": [
    "#T檢定\n",
    "print(\"T檢定 - Windspeed\",'\\n-------------------------------')\n",
    "mean = 500\n",
    "sample = np.array(data[\"windspeed\"]) \n",
    "sample_size = len(sample)\n",
    "\n",
    "sample_mean = sample.mean()\n",
    "print(\"樣本平均:\", sample_mean)\n",
    "sample_stdev = sample.std()\n",
    "print(\"樣本標準差:\", sample_stdev)\n",
    "sigma = sample_stdev/math.sqrt(sample_size-1)\n",
    "print(\"樣本計算出的母體標準差:\", sigma)\n",
    "t_obtained = (sample_mean-mean)/sigma\n",
    "print(\"檢定統計量:\", t_obtained)\n",
    "print(stats.ttest_1samp(a=sample, popmean=mean))\n",
    "t_critical = stats.t.ppf(q=0.975, df=sample_size-1)\n",
    "print(\"t分數:\", t_critical)"
   ]
  }
 ],
 "metadata": {
  "kernelspec": {
   "display_name": "Python 3",
   "language": "python",
   "name": "python3"
  },
  "language_info": {
   "codemirror_mode": {
    "name": "ipython",
    "version": 3
   },
   "file_extension": ".py",
   "mimetype": "text/x-python",
   "name": "python",
   "nbconvert_exporter": "python",
   "pygments_lexer": "ipython3",
   "version": "3.6.5"
  }
 },
 "nbformat": 4,
 "nbformat_minor": 2
}
