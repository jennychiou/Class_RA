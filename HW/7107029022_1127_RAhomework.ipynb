{
 "cells": [
  {
   "cell_type": "markdown",
   "metadata": {},
   "source": [
    "<img src=\"img/1127-1.jpg\" width=\"30%\">"
   ]
  },
  {
   "cell_type": "code",
   "execution_count": 1,
   "metadata": {},
   "outputs": [],
   "source": [
    "states = [\"Sunny\",\"Cloudy\",\"Rainy\"]\n",
    "transitionName = [[\"SS\",\"SC\",\"SR\"],[\"CS\",\"CC\",\"CR\"],[\"RS\",\"RC\",\"RR\"]]\n",
    "matrix = [0.63,0.17,0.2]\n",
    "weather = [[0.5,0.25,0.25],[0.375,0.125,0.375],[0.125,0.625,0.375]]\n",
    "array = [[0.6,0.25,0.05],[0.2,0.25,0.1],[0.15,0.25,0.35],[0.05,0.25,0.5]]"
   ]
  },
  {
   "cell_type": "markdown",
   "metadata": {},
   "source": [
    "# weather matrix"
   ]
  },
  {
   "cell_type": "markdown",
   "metadata": {},
   "source": [
    "<img src=\"img/1127-2.jpg\" width=\"70%\">"
   ]
  },
  {
   "cell_type": "markdown",
   "metadata": {},
   "source": [
    "# transition matrix"
   ]
  },
  {
   "cell_type": "markdown",
   "metadata": {},
   "source": [
    "<img src=\"img/1127-3.jpg\" width=\"70%\">"
   ]
  },
  {
   "cell_type": "code",
   "execution_count": 2,
   "metadata": {},
   "outputs": [
    {
     "name": "stdout",
     "output_type": "stream",
     "text": [
      "a1s : 0.378\n",
      "a1c : 0.0425\n",
      "a1r : 0.010000000000000002\n"
     ]
    }
   ],
   "source": [
    "#a1\n",
    "a1 = []\n",
    "a1s = matrix[0] * array[0][0]\n",
    "a1c = matrix[1] * array[0][1]\n",
    "a1r = matrix[2] * array[0][2]\n",
    "a1.append(a1s)\n",
    "a1.append(a1c)\n",
    "a1.append(a1r)\n",
    "\n",
    "print(\"a1s :\",a1s)\n",
    "print(\"a1c :\",a1c)\n",
    "print(\"a1r :\",a1r)"
   ]
  },
  {
   "cell_type": "code",
   "execution_count": 3,
   "metadata": {},
   "outputs": [
    {
     "data": {
      "text/plain": [
       "[0.378, 0.0425, 0.010000000000000002]"
      ]
     },
     "execution_count": 3,
     "metadata": {},
     "output_type": "execute_result"
    }
   ],
   "source": [
    "a1"
   ]
  },
  {
   "cell_type": "code",
   "execution_count": 4,
   "metadata": {},
   "outputs": [
    {
     "name": "stdout",
     "output_type": "stream",
     "text": [
      "a2s : 0.040425\n",
      "a2c : 0.037703125\n",
      "a2r : 0.007756250000000001\n"
     ]
    }
   ],
   "source": [
    "#a2\n",
    "a2 = []\n",
    "a2s = (a1[0]*weather[0][0]+a1[1]*weather[0][1]+a1[2]*weather[0][2]) * array[1][0]\n",
    "a2c = (a1[0]*weather[1][0]+a1[1]*weather[1][1]+a1[2]*weather[1][2]) * array[1][1]\n",
    "a2r = (a1[0]*weather[2][0]+a1[1]*weather[2][1]+a1[2]*weather[2][2]) * array[1][2]\n",
    "a2.append(a2s)\n",
    "a2.append(a2c)\n",
    "a2.append(a2r)\n",
    "\n",
    "print(\"a2s :\",a2s)\n",
    "print(\"a2c :\",a2c)\n",
    "print(\"a2r :\",a2r)"
   ]
  },
  {
   "cell_type": "code",
   "execution_count": 5,
   "metadata": {},
   "outputs": [
    {
     "data": {
      "text/plain": [
       "[0.040425, 0.037703125, 0.007756250000000001]"
      ]
     },
     "execution_count": 5,
     "metadata": {},
     "output_type": "execute_result"
    }
   ],
   "source": [
    "a2"
   ]
  },
  {
   "cell_type": "code",
   "execution_count": 6,
   "metadata": {},
   "outputs": [
    {
     "name": "stdout",
     "output_type": "stream",
     "text": [
      "a3s : 0.0047366015625\n",
      "a3c : 0.00569521484375\n",
      "a3r : 0.01103416015625\n"
     ]
    }
   ],
   "source": [
    "#a3\n",
    "a3 = []\n",
    "a3s = (a2[0]*weather[0][0]+a2[1]*weather[0][1]+a2[2]*weather[0][2]) * array[2][0]\n",
    "a3c = (a2[0]*weather[1][0]+a2[1]*weather[1][1]+a2[2]*weather[1][2]) * array[2][1]\n",
    "a3r = (a2[0]*weather[2][0]+a2[1]*weather[2][1]+a2[2]*weather[2][2]) * array[2][2]\n",
    "a3.append(a3s)\n",
    "a3.append(a3c)\n",
    "a3.append(a3r)\n",
    "\n",
    "print(\"a3s :\",a3s)\n",
    "print(\"a3c :\",a3c)\n",
    "print(\"a3r :\",a3r)"
   ]
  },
  {
   "cell_type": "code",
   "execution_count": 7,
   "metadata": {},
   "outputs": [
    {
     "data": {
      "text/plain": [
       "[0.0047366015625, 0.00569521484375, 0.01103416015625]"
      ]
     },
     "execution_count": 7,
     "metadata": {},
     "output_type": "execute_result"
    }
   ],
   "source": [
    "a3"
   ]
  }
 ],
 "metadata": {
  "kernelspec": {
   "display_name": "Python 3",
   "language": "python",
   "name": "python3"
  },
  "language_info": {
   "codemirror_mode": {
    "name": "ipython",
    "version": 3
   },
   "file_extension": ".py",
   "mimetype": "text/x-python",
   "name": "python",
   "nbconvert_exporter": "python",
   "pygments_lexer": "ipython3",
   "version": "3.6.5"
  }
 },
 "nbformat": 4,
 "nbformat_minor": 2
}
